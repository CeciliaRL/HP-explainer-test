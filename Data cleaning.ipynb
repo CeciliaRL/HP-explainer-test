{
 "cells": [
  {
   "cell_type": "code",
   "execution_count": null,
   "metadata": {
    "cell_id": "00000-5fa9d480-154d-4418-8978-00471d20126e",
    "deepnote_cell_type": "code",
    "deepnote_to_be_reexecuted": false,
    "execution_millis": 1,
    "execution_start": 1638970748648,
    "source_hash": "1140d54c",
    "tags": []
   },
   "outputs": [],
   "source": [
    "import pandas as pd\n",
    "import numpy as np\n",
    "import urllib.request\n",
    "import json\n",
    "import pickle\n",
    "import regex as re\n",
    "import requests"
   ]
  },
  {
   "cell_type": "markdown",
   "metadata": {
    "cell_id": "00001-0047ee21-e96f-464e-943c-bae41feca5ac",
    "deepnote_cell_type": "text-cell-h2",
    "is_collapsed": false,
    "tags": []
   },
   "source": [
    "## Supplementary notebook: "
   ]
  },
  {
   "cell_type": "markdown",
   "metadata": {
    "cell_id": "00001-8007238a-3cc0-404a-a1af-ca362c7f3154",
    "deepnote_cell_type": "text-cell-h1",
    "is_collapsed": false,
    "tags": []
   },
   "source": [
    "# Collecting and cleaning our dataset"
   ]
  },
  {
   "cell_type": "markdown",
   "metadata": {
    "cell_id": "00002-302e0492-0cb5-4720-acc7-40b4866dad90",
    "deepnote_cell_type": "text-cell-p",
    "is_collapsed": false,
    "tags": []
   },
   "source": [
    "In this notebook the main dataset used for exploring our topic is constructed. This includes the names of all characters related to the Wizarding World including some chosen features, and the links between the characters. "
   ]
  },
  {
   "cell_type": "markdown",
   "metadata": {
    "cell_id": "00001-f2d05448-ad48-47ff-b8d9-2316ef861f37",
    "deepnote_cell_type": "text-cell-h3",
    "is_collapsed": false,
    "tags": []
   },
   "source": [
    "### Construct queries"
   ]
  },
  {
   "cell_type": "markdown",
   "metadata": {
    "cell_id": "00003-33c79bb3-a38d-4d99-927e-948c189414b9",
    "deepnote_cell_type": "markdown",
    "tags": []
   },
   "source": [
    "First step is to collect the names of all the characters in the Wizarding World. To have to access as few pages as possible, we utilise that the characters all have a gender (male, female, unknown) and that there is a category for each gender where all characters of this specific gender are listed. Hereby, we can extract the names of all characters. \n",
    "\n",
    "Note that because there is a limit to the number items that can be returned by a query, the function below iterates over each page in steps of 500 to get all names. "
   ]
  },
  {
   "cell_type": "code",
   "execution_count": null,
   "metadata": {
    "cell_id": "00003-e8c6203b-2b7c-4e0a-b0d2-47cd2c17f6de",
    "deepnote_cell_type": "code",
    "deepnote_to_be_reexecuted": false,
    "execution_millis": 1,
    "execution_start": 1638970748687,
    "source_hash": "3825490b",
    "tags": []
   },
   "outputs": [],
   "source": [
    "def individuals_by_gender(category_name):\n",
    "  '''\n",
    "  Function that returns the names of all characters associated with this specific catogory\n",
    "  on the wiki-pages.\n",
    "  '''\n",
    "\n",
    "  individuals = []\n",
    "\n",
    "  baseurl = \"https://harrypotter.fandom.com/api.php?\"\n",
    "  action = \"action=query&list=categorymembers\"\n",
    "  content = \"prop=revisions&rvprop=content&rvslots=*\"\n",
    "  limit = \"cmlimit=500\"  # number of category items returned (max is 500)\n",
    "  dataformat =\"format=json\"\n",
    "  cmtitle = 'cmtitle=Category:{}'.format(category_name)\n",
    "  q = \"{}{}&{}&{}&{}&{}\".format(baseurl, action, content,cmtitle,limit, dataformat)\n",
    "  wikiresponse = urllib.request.urlopen(q)\n",
    "  wikidata = wikiresponse.read()\n",
    "  query = json.loads(wikidata.decode('utf-8'))\n",
    "  for page in query['query']['categorymembers']:\n",
    "    individuals.append(page['title'])\n",
    " \n",
    "  while True: \n",
    "    try:\n",
    "        contin = 'cmcontinue={}'.format(query['continue']['cmcontinue'])\n",
    "    except:\n",
    "        break\n",
    "    \n",
    "    continue_q = \"{}{}&{}&{}&{}&{}&{}\".format(baseurl, action, content,contin,cmtitle,limit,dataformat)\n",
    "    print(contin)\n",
    "    wikiresponse = urllib.request.urlopen(continue_q)\n",
    "    wikidata = wikiresponse.read()\n",
    "    query = json.loads(wikidata.decode('utf-8'))\n",
    "    \n",
    "    #print(query)\n",
    "    for page in query['query']['categorymembers']:\n",
    "        individuals.append(page['title'])\n",
    "\n",
    "  return individuals\n"
   ]
  },
  {
   "cell_type": "code",
   "execution_count": null,
   "metadata": {
    "cell_id": "00003-21b6b761-0de6-4462-ab2e-6fa20bbab43c",
    "deepnote_cell_type": "code",
    "deepnote_to_be_reexecuted": false,
    "execution_millis": 1157,
    "execution_start": 1638970748688,
    "source_hash": "77f440ce",
    "tags": []
   },
   "outputs": [],
   "source": [
    "# Use the function to get the names associated with each gender.\n",
    "females = individuals_by_gender('Females')\n",
    "males = individuals_by_gender('Males')\n",
    "unknowns= individuals_by_gender(\"Individuals_of_unknown_or_undetermined_gender\")"
   ]
  },
  {
   "cell_type": "markdown",
   "metadata": {
    "cell_id": "00006-58c41754-bc29-4a37-9985-f11fba68ad27",
    "deepnote_cell_type": "markdown",
    "tags": []
   },
   "source": [
    "#### Get character information\n",
    "The names of all characters have now been collected and can be collected into a single list of all characters. \n",
    ". "
   ]
  },
  {
   "cell_type": "code",
   "execution_count": null,
   "metadata": {
    "cell_id": "00006-8378ef0f-843a-4912-82f2-38c28989909c",
    "deepnote_cell_type": "code",
    "deepnote_to_be_reexecuted": false,
    "execution_millis": 14,
    "execution_start": 1638970749854,
    "source_hash": "fb5ab95d",
    "tags": []
   },
   "outputs": [],
   "source": [
    "females_no_whitespace = [name.replace(\" \", \"_\") for name in females]\n",
    "males_no_whitespace = [name.replace(\" \", \"_\") for name in males]\n",
    "unknowns_no_whitespace = [name.replace(\" \", \"_\") for name in unknowns]"
   ]
  },
  {
   "cell_type": "code",
   "execution_count": null,
   "metadata": {
    "cell_id": "00007-61009742-0da4-4d70-83ee-474c1459fd27",
    "deepnote_cell_type": "code",
    "deepnote_output_heights": [
     193.875
    ],
    "deepnote_to_be_reexecuted": false,
    "execution_millis": 33,
    "execution_start": 1638970749876,
    "source_hash": "1a6bd896",
    "tags": []
   },
   "outputs": [],
   "source": [
    "all_names = females + males + unknowns\n",
    "all_names_no_whitespace = females_no_whitespace + males_no_whitespace + unknowns_no_whitespace\n",
    "all_names[0:10]"
   ]
  },
  {
   "cell_type": "markdown",
   "metadata": {
    "cell_id": "00008-a9680f51-9d12-431c-8c5c-8f84fdeacaeb",
    "deepnote_cell_type": "markdown",
    "tags": []
   },
   "source": [
    "Some characters are defined as being \"unidentified\" meaning there is not much information and perhaps no specific name. We choose to keep these as mentioned in the explainer notebook. "
   ]
  },
  {
   "cell_type": "code",
   "execution_count": null,
   "metadata": {
    "cell_id": "00008-8a347675-8ef2-4595-803f-474ccdd23a0a",
    "deepnote_cell_type": "code",
    "deepnote_to_be_reexecuted": false,
    "execution_millis": 34,
    "execution_start": 1638970749914,
    "source_hash": "71857cf7",
    "tags": []
   },
   "outputs": [],
   "source": [
    "## These characters had errors in the character-informations and were not very interesting, so they are removed\n",
    "drop_names = ['Chief Snatcher', 'Painting of a giraffe']\n",
    "drop_names_no_whitespace = [n.replace(\" \", \"_\") for n in drop_names]\n",
    "\n",
    "all_names = [name for name in all_names if name not in drop_names]\n",
    "all_names_no_whitespace = [name for name in all_names if name not in drop_names_no_whitespace]"
   ]
  },
  {
   "cell_type": "markdown",
   "metadata": {
    "cell_id": "00012-beaacac6-68e7-4ea3-82c2-8419162b4f08",
    "deepnote_cell_type": "markdown",
    "tags": []
   },
   "source": [
    "#### Get text file for each character\n",
    "The character-page for each character is now queried using the Wiki-API and saved as a txt-file. \n"
   ]
  },
  {
   "cell_type": "code",
   "execution_count": null,
   "metadata": {
    "cell_id": "00010-6763ef23-27ca-4ca6-bc24-b72aa72c92db",
    "deepnote_cell_type": "code",
    "deepnote_to_be_reexecuted": false,
    "execution_millis": 571941,
    "execution_start": 1638970749954,
    "source_hash": "281d257f",
    "tags": []
   },
   "outputs": [],
   "source": [
    "for name in all_names:\n",
    "    baseurl = \"https://harrypotter.fandom.com/api.php?\"\n",
    "    action = \"action=query\"\n",
    "    content = \"prop=revisions&rvprop=content&rvslots=*\"\n",
    "    dataformat =\"format=json\"\n",
    "\n",
    "    title = \"titles=\"+name\n",
    "    link = \"{}{}&{}&{}&{}\".format(baseurl, action, content, title, dataformat)\n",
    "    \n",
    "    wikiresponse = requests.get(link)\n",
    "    wikitext = wikiresponse.text\n",
    "    wikijson = json.loads(wikitext)\n",
    "\n",
    "    # get the page id\n",
    "    page_id = list(wikijson[\"query\"][\"pages\"].keys())[0]\n",
    "\n",
    "    try:\n",
    "        text = wikijson[\"query\"][\"pages\"][page_id]['revisions'][0]['slots']['main']['*']\n",
    "        name_ = name.replace(' ', '_')\n",
    "        with open('Characters/'+name_+'.txt', 'w') as f:\n",
    "            f.write(text)\n",
    "    except:\n",
    "        pass"
   ]
  },
  {
   "cell_type": "markdown",
   "metadata": {
    "cell_id": "00018-20a25d70-4f3d-42cd-be29-b9389303f288",
    "deepnote_cell_type": "markdown",
    "tags": []
   },
   "source": [
    "#### Get links and features for each character\n",
    "For each character the relevant features are found using regex expressions to extract the relevant part of the page. The links are identified by finding the links to other characters on their character page.\n",
    "\n",
    "As mentioned in the explainer notebook, the information for some of the characters was very inconsistent, so the features are manually corrected below."
   ]
  },
  {
   "cell_type": "code",
   "execution_count": null,
   "metadata": {
    "cell_id": "00015-781a6007-f80e-400e-a080-d8d379abf8d9",
    "deepnote_cell_type": "code",
    "deepnote_to_be_reexecuted": false,
    "execution_millis": 0,
    "execution_start": 1638971321930,
    "source_hash": "9658234",
    "tags": []
   },
   "outputs": [],
   "source": [
    "# The blood-types are very inconsistent in their naming, so they are renamed\n",
    "# We are only interested in the blood-types: Muggles, Muggle-borns, Squibs, Pure-blood and Half-blood \n",
    "# so the rest are categorized as unknown. \n",
    "\n",
    "def correct_blood_type(string):\n",
    "    # Muggles \n",
    "    if any(x in [\"Non-magic people\", 'No-Maj','Muggle'] for x in (string.split(\"|\"))): \n",
    "        return \"Muggle\"\n",
    "\n",
    "    # Muggle-born\n",
    "    elif any(x in [\"Muggle-born\", \"muggle-born\"] for x in (string.split(\"|\"))): \n",
    "        return \"Muggle-born\"\n",
    "\n",
    "    # Pure-blood\n",
    "    elif any(x in [\"Pure\",\"Pure-blood\"] for x in (string.split(\"|\"))): \n",
    "        return \"Pure-blood\"\n",
    "    \n",
    "    # Half-blood\n",
    "    elif string == 'Half-blood': \n",
    "        return \"Half-blood\"\n",
    "\n",
    "    # Squib\n",
    "    elif string == 'Squib': \n",
    "        return \"Squib\"\n",
    "\n",
    "    else:\n",
    "        return 'unknown'"
   ]
  },
  {
   "cell_type": "code",
   "execution_count": null,
   "metadata": {
    "cell_id": "00017-f6c24fe3-7527-42b3-9bba-c24270ab2dca",
    "deepnote_cell_type": "code",
    "deepnote_to_be_reexecuted": false,
    "execution_millis": 0,
    "execution_start": 1638971321931,
    "source_hash": "55852ca6",
    "tags": []
   },
   "outputs": [],
   "source": [
    "# The species are a bit too specific (e.g. Boarhound, bulldog and dog should all just be dogs)\n",
    "# so this is manually corrected as well \n",
    "\n",
    "def correct_species(string):\n",
    "    # Owls\n",
    "    if any(x in [\"owl\", 'Owl'] for x in (string.split(\" \"))): \n",
    "        return \"Owl\"\n",
    "\n",
    "    # All types of trolls\n",
    "    elif any(x in [\"Troll\", \"troll\"] for x in (string.split(\" \"))): \n",
    "        return \"Troll\"\n",
    "\n",
    "    # Cats\n",
    "    elif any(x in [\"Cat\"] for x in (string.split(\" \"))): \n",
    "        return \"Cat\"\n",
    "    \n",
    "    # Crabs\n",
    "    elif any(x in [\"Crab\", 'crab'] for x in (string.split(\" \"))): \n",
    "        return \"Crab\"\n",
    "\n",
    "    # Dragons\n",
    "    elif any(x in [\"Chinese Fireball\",'Dragon','Norwegian Ridgeback',\"Hungarian Horntail\",'Common Welsh Green'] for x in [string]): \n",
    "        return \"Dragon\"\n",
    "\n",
    "    # Veela\n",
    "    elif any(x in [\"Veela\"] for x in (string.split(\"-\"))): \n",
    "        return \"Veela\"\n",
    "\n",
    "    # Chicken\n",
    "    elif any(x in [\"Chicken\"] for x in (string.split(\" \"))): \n",
    "        return \"Chicken\"\n",
    "\n",
    "    # Dog\n",
    "    elif any(x in [\"Bulldog\", \"Dog\", \"Boarhound\"] for x in [string]): \n",
    "        return \"Dog\"\n",
    "\n",
    "    # Hummingbird\n",
    "    elif string == \"Wikipedia:Hummingbird\": \n",
    "        return \"Hummingbird\"\n",
    "\n",
    "    else:\n",
    "        return string"
   ]
  },
  {
   "cell_type": "code",
   "execution_count": null,
   "metadata": {
    "cell_id": "00016-32bc260f-a5d9-4d61-9e83-c4a8eb3a73e5",
    "deepnote_cell_type": "code",
    "deepnote_to_be_reexecuted": false,
    "execution_millis": 45,
    "execution_start": 1638971321931,
    "source_hash": "aa98e8b0",
    "tags": []
   },
   "outputs": [],
   "source": [
    "# The gender-types are very inconsistent in their naming, so they are renamed\n",
    "\n",
    "def correct_gender(string):\n",
    "    # Females\n",
    "    if string in ['Females', 'Female']: \n",
    "        return \"Female\"\n",
    "\n",
    "    # Males\n",
    "    elif string in ['Males', 'Male', 'male']: \n",
    "        return \"Male\"\n",
    "\n",
    "    # Otherwise\n",
    "    else:\n",
    "        return 'unknown'"
   ]
  },
  {
   "cell_type": "code",
   "execution_count": null,
   "metadata": {
    "cell_id": "00016-0a497140-8bdd-4fbf-b5e8-f8f501c192a7",
    "deepnote_cell_type": "code",
    "deepnote_to_be_reexecuted": false,
    "execution_millis": 1,
    "execution_start": 1638971321976,
    "source_hash": "30b43aae",
    "tags": []
   },
   "outputs": [],
   "source": [
    "# find links \n",
    "def get_links(text, name, names):\n",
    "    links = []\n",
    "\n",
    "    # Find matches\n",
    "    pattern = r'\\[\\[(.*?)(?:\\|.*?|#.*?)?\\]\\]'\n",
    "    matches = re.findall(pattern,text, re.IGNORECASE) \n",
    "\n",
    "    # Check links\n",
    "    for match in matches:\n",
    "        if (match in names) & (match != name):\n",
    "            links.append(match)\n",
    "\n",
    "    # return unique links\n",
    "    return list(np.unique(links)) \n",
    "\n",
    "# find features\n",
    "def get_features(text):\n",
    "    feature_dict = {}\n",
    "\n",
    "    species_pattern = r'species\\s*=\\s*\\[\\[(.*?)(?:\\|.*?)?\\]\\]'\n",
    "    gender_pattern = r'gender\\s*=\\s*(.*?)[^\\w]'\n",
    "    house_pattern = r'house\\s*=\\s*\\[\\[(.*?)[^\\w]'\n",
    "    blood_pattern = r'blood\\s*=\\s*\\[\\[(.*?)\\]\\]'\n",
    "\n",
    "    # SPECIES\n",
    "    species_match = re.findall(species_pattern,text, re.IGNORECASE)\n",
    "    if species_match:\n",
    "        species_match = correct_species(species_match[0])\n",
    "        feature_dict['species'] = species_match\n",
    "    else:\n",
    "        feature_dict['species'] = \"unknown\"\n",
    "\n",
    "    # GENDER\n",
    "    gender_match = re.findall(gender_pattern,text, re.IGNORECASE)\n",
    "    if gender_match:\n",
    "        gender_match = correct_gender(gender_match[0])\n",
    "        feature_dict['gender'] = gender_match\n",
    "    else:\n",
    "        feature_dict['gender'] = \"unknown\"\n",
    "    \n",
    "    # HOUSE\n",
    "    house_match = re.findall(house_pattern,text, re.IGNORECASE)\n",
    "    if house_match:\n",
    "        feature_dict['house'] = house_match[0]\n",
    "    else:\n",
    "        feature_dict['house'] = \"unknown\"\n",
    "\n",
    "    # BLOOD\n",
    "    blood_match = re.findall(blood_pattern,text, re.IGNORECASE)\n",
    "    if blood_match:\n",
    "        blood_match = correct_blood_type(blood_match[0])\n",
    "        feature_dict['blood'] = blood_match\n",
    "    else:\n",
    "        feature_dict['blood'] = \"unknown\"\n",
    "\n",
    "    return feature_dict\n"
   ]
  },
  {
   "cell_type": "code",
   "execution_count": null,
   "metadata": {
    "cell_id": "00018-8d2dc62b-65b9-48c7-af31-8d6bd1603922",
    "deepnote_cell_type": "code",
    "deepnote_to_be_reexecuted": false,
    "execution_millis": 20335,
    "execution_start": 1638971321977,
    "source_hash": "71400cc6",
    "tags": []
   },
   "outputs": [],
   "source": [
    "attributes = {}\n",
    "links = {}\n",
    "\n",
    "for name in all_names:\n",
    "    try:\n",
    "        name_ = name.replace(' ', '_')\n",
    "        with open(\"Data_files/Characters/\"+ name_ +\".txt\") as f:\n",
    "            text = str(f.readlines())\n",
    "        attributes[name] = get_features(text)\n",
    "        links[name] = get_links(text, name, all_names)\n",
    "    except: \n",
    "        print(name)"
   ]
  },
  {
   "cell_type": "markdown",
   "metadata": {
    "cell_id": "00020-b7c2ec35-1ede-4f5a-aa5f-197c2de56557",
    "deepnote_cell_type": "markdown",
    "tags": []
   },
   "source": [
    "#### Create dataset\n",
    "The attributes and links are now combined to a dataframe, which is saved for future use. The attribuets and links are saved as dictionaries as this makes constructing the networks very simple. "
   ]
  },
  {
   "cell_type": "code",
   "execution_count": null,
   "metadata": {
    "cell_id": "00017-a10e7ee2-0d53-4d63-95eb-46438b34e440",
    "deepnote_cell_type": "code",
    "deepnote_to_be_reexecuted": false,
    "execution_millis": 1928,
    "execution_start": 1638971342346,
    "source_hash": "c8c1d95b",
    "tags": []
   },
   "outputs": [],
   "source": [
    "# Create dataframe\n",
    "HP_enriched_character_df = pd.DataFrame.from_dict(attributes).T\n",
    "HP_enriched_character_df.reset_index(level = 0, inplace=True)\n",
    "HP_enriched_character_df.rename(columns={\"index\": \"name\"}, inplace = True)\n",
    "\n",
    "# Save\n",
    "HP_enriched_character_df.to_csv(\"Data_files/Data/HP_enriched_character_df.csv\",index=False)\n",
    "\n",
    "# Show\n",
    "HP_enriched_character_df.head(5)"
   ]
  },
  {
   "cell_type": "code",
   "execution_count": null,
   "metadata": {
    "cell_id": "00013-347010e2-276a-4c30-b8a4-e41663b7e80c",
    "deepnote_cell_type": "code",
    "deepnote_to_be_reexecuted": true,
    "execution_millis": 88,
    "execution_start": 1638379412856,
    "source_hash": "1a8b5e55",
    "tags": []
   },
   "outputs": [],
   "source": [
    "with open('Data_files/Data/Network/attributes.json', 'w') as outfile:\n",
    "    json.dump(attributes, outfile)\n",
    "\n",
    "with open('Data_files/Data/Network/links.json', 'w') as outfile:\n",
    "    json.dump(links, outfile)"
   ]
  },
  {
   "cell_type": "markdown",
   "metadata": {
    "cell_id": "00023-8342ee5a-0793-4838-be0a-00ebe4668aef",
    "deepnote_cell_type": "markdown",
    "tags": []
   },
   "source": [
    "### Creating links based on family ties\n"
   ]
  },
  {
   "cell_type": "code",
   "execution_count": null,
   "metadata": {
    "cell_id": "00017-949dd88f-011d-430a-8317-7f21bf8a680e",
    "deepnote_cell_type": "code",
    "deepnote_to_be_reexecuted": false,
    "execution_millis": 5,
    "execution_start": 1638971485877,
    "source_hash": "99a8e2d7",
    "tags": []
   },
   "outputs": [],
   "source": [
    "def get_family_links(text, name, names):\n",
    "    links = []\n",
    "    family_pattern = \"(family = (.*?\\\\')\\|)\"\n",
    "    family = re.finditer(family_pattern, text, re.MULTILINE)\n",
    "    family = next(family).group()\n",
    "    individual_pattern = '\\[\\[(.*?)(?:\\|.*?|\\#.*?)?\\]\\]'\n",
    "    family_members = re.findall(individual_pattern, family)\n",
    "\n",
    "    for member in family_members:\n",
    "        if (member in names) & (member != name):\n",
    "            links.append(member)\n",
    "\n",
    "    # return unique links\n",
    "    return list(np.unique(links))         "
   ]
  },
  {
   "cell_type": "code",
   "execution_count": null,
   "metadata": {
    "cell_id": "00021-98d5b2d6-cbed-4b08-babb-9601f793ef93",
    "deepnote_cell_type": "code",
    "deepnote_to_be_reexecuted": false,
    "execution_millis": 9238,
    "execution_start": 1638971486509,
    "source_hash": "ce1e524",
    "tags": []
   },
   "outputs": [],
   "source": [
    "family_links = {}\n",
    "mssin_cnt = 0\n",
    "for name in all_names:\n",
    "    try:\n",
    "        name_ = name.replace(' ', '_')\n",
    "        with open(\"Data_files/Characters/\"+ name_ +\".txt\") as f:\n",
    "            text = str(f.readlines())\n",
    "        family_links[name] = get_family_links(text, name, all_names)\n",
    "    except: \n",
    "        mssin_cnt += 1\n",
    "print('{} entries with zero familial ties'.format(mssin_cnt))\n",
    "print('{} entries left in the graph'.format(len(all_names) - mssin_cnt))"
   ]
  },
  {
   "cell_type": "code",
   "execution_count": null,
   "metadata": {
    "cell_id": "00024-e36ef86f-6c00-43bb-bd75-28ace337efe4",
    "deepnote_cell_type": "code",
    "deepnote_to_be_reexecuted": false,
    "execution_millis": 2,
    "execution_start": 1638971495748,
    "source_hash": "cd6f369d",
    "tags": []
   },
   "outputs": [],
   "source": [
    "with open('Data_files/Data/Network/family_links.json', 'w') as outfile:\n",
    "    json.dump(family_links, outfile)"
   ]
  }
 ],
 "metadata": {
  "deepnote": {
   "is_reactive": false
  },
  "deepnote_execution_queue": [],
  "deepnote_notebook_id": "6ecd247c-6286-43a7-bb63-6bb7b5af9614",
  "kernelspec": {
   "display_name": "Python 3",
   "language": "python",
   "name": "python3"
  },
  "language_info": {
   "codemirror_mode": {
    "name": "ipython",
    "version": 3
   },
   "file_extension": ".py",
   "mimetype": "text/x-python",
   "name": "python",
   "nbconvert_exporter": "python",
   "pygments_lexer": "ipython3",
   "version": "3.7.4"
  }
 },
 "nbformat": 4,
 "nbformat_minor": 4
}
